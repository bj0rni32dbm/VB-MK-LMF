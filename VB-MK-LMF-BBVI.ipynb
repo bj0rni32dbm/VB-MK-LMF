{
 "cells": [
  {
   "cell_type": "markdown",
   "metadata": {},
   "source": [
    "## Logistic MF with multiple kernels using TensorFlow and Edward\n",
    "\n",
    "This is a somewhat more accessible demonstration of VB-MK-LMF with a different variational approximation strategy and slightly modified priors. In particular, this version utilizes BBVI by Ranganath <i>et al.</i> (2013), as implemented in the Edward package by the Blei lab (Tran <i>et al.</i> (2016)). Since Gamma distributions lead to very noisy graidents with BBVI, they have been replaced by LogNormals. We also impose priors on the $\\alpha$ params ($L_2$ regularization)."
   ]
  },
  {
   "cell_type": "code",
   "execution_count": 1,
   "metadata": {},
   "outputs": [
    {
     "name": "stdout",
     "output_type": "stream",
     "text": [
      "Populating the interactive namespace from numpy and matplotlib\n"
     ]
    },
    {
     "name": "stderr",
     "output_type": "stream",
     "text": [
      "/usr/local/lib/python3.5/dist-packages/h5py/__init__.py:36: FutureWarning: Conversion of the second argument of issubdtype from `float` to `np.floating` is deprecated. In future, it will be treated as `np.float64 == np.dtype(float).type`.\n",
      "  from ._conv import register_converters as _register_converters\n"
     ]
    },
    {
     "name": "stdout",
     "output_type": "stream",
     "text": [
      "WARNING:tensorflow:From /usr/local/lib/python3.5/dist-packages/tensorflow/contrib/learn/python/learn/datasets/base.py:198: retry (from tensorflow.contrib.learn.python.learn.datasets.base) is deprecated and will be removed in a future version.\n",
      "Instructions for updating:\n",
      "Use the retry module or similar alternatives.\n"
     ]
    }
   ],
   "source": [
    "%pylab inline\n",
    "\n",
    "import edward as ed\n",
    "from edward.models import Normal, MultivariateNormalTriL, TransformedDistribution, NormalWithSoftplusScale\n",
    "from edward.models.random_variable import RandomVariable\n",
    "\n",
    "import tensorflow as tf\n",
    "from tensorflow.contrib.distributions import Distribution\n",
    "\n",
    "import numpy as np\n",
    "from sklearn.metrics import precision_recall_curve, roc_curve, roc_auc_score, auc"
   ]
  },
  {
   "cell_type": "code",
   "execution_count": 2,
   "metadata": {
    "collapsed": true
   },
   "outputs": [],
   "source": [
    "# Load interaction matrix\n",
    "admat = \"data/nr/mat/nr_admat_dgc.txt\"\n",
    "with open(admat) as f:\n",
    "    ncols = len(f.readline().split('\\t'))\n",
    "R_ = np.loadtxt(admat,skiprows=1,usecols=range(1,ncols),delimiter='\\t',dtype=np.float32)\n",
    "I,J = R_.shape\n",
    "\n",
    "# Load similarity matrices\n",
    "simmat_u = [\"data/nr/mat/nr_simmat_dg.txt\"]\n",
    "Ku = np.array([np.loadtxt(mat,skiprows=1,usecols=range(1,I+1),delimiter='\\t',dtype=np.float32) for mat in simmat_u])\n",
    "\n",
    "simmat_v = [\"data/nr/mat/nr_simmat_dc.txt\",\n",
    "            \"data/nr/mat/nr_simmat_dc_maccs_rbf.txt\",\n",
    "            \"data/nr/mat/nr_simmat_dc_maccs_tanimoto.txt\",\n",
    "            \"data/nr/mat/nr_simmat_dc_morgan_rbf.txt\",\n",
    "            \"data/nr/mat/nr_simmat_dc_morgan_tanimoto.txt\"]\n",
    "Kv = np.array([np.loadtxt(mat,skiprows=1,usecols=range(1,J+1),delimiter='\\t',dtype=np.float32) for mat in simmat_v])"
   ]
  },
  {
   "cell_type": "code",
   "execution_count": 3,
   "metadata": {
    "collapsed": true
   },
   "outputs": [],
   "source": [
    "# Nearest neighbors truncation + regularization\n",
    "def truncate_kernel(K):\n",
    "    idx = np.argsort(-K,axis=1)\n",
    "    for i in range(K.shape[0]):\n",
    "        K[i,idx[i,5:]] = 0\n",
    "    K += K.T\n",
    "    K -= (np.real_if_close(np.min(np.linalg.eigvals(K))-0.1))*np.eye(K.shape[0])\n",
    "\n",
    "for i in range(len(Ku)):\n",
    "    truncate_kernel(Ku[i])\n",
    "\n",
    "for i in range(len(Kv)):\n",
    "    truncate_kernel(Kv[i])"
   ]
  },
  {
   "cell_type": "code",
   "execution_count": 4,
   "metadata": {
    "collapsed": true
   },
   "outputs": [],
   "source": [
    "# Load CV folds\n",
    "folds = []\n",
    "with open(\"data/nr/cv/nr_all_folds_cvs1.txt\") as f:\n",
    "    for i in f.readlines():\n",
    "        rec = i.strip().split(\",\")\n",
    "        ln = len(rec)//2\n",
    "        folds += [[(int(rec[j*2])-1,int(rec[j*2+1])-1) for j in range(ln)]]"
   ]
  },
  {
   "cell_type": "code",
   "execution_count": 5,
   "metadata": {
    "collapsed": true
   },
   "outputs": [],
   "source": [
    "# Latent dims and augmented Bernoulli parameter\n",
    "L  = 12\n",
    "c  = 3.0\n",
    "\n",
    "# Insert your favorite neural network here\n",
    "def nn(Uw1,Vw1):\n",
    "    return tf.matmul(Uw1,Vw1,transpose_a = True)"
   ]
  },
  {
   "cell_type": "code",
   "execution_count": 6,
   "metadata": {
    "collapsed": true
   },
   "outputs": [],
   "source": [
    "# Augmented Bernoulli distribution\n",
    "#  sampling is not used and therefore omitted\n",
    "\n",
    "class dAugmentedBernoulli(Distribution):\n",
    "    def __init__(self,logits,c,obs,\n",
    "                 validate_args=False,\n",
    "                 allow_nan_stats=True,\n",
    "                 name=\"AugmentedBernoulli\"):\n",
    "        parameters = locals()\n",
    "        with tf.name_scope(name):\n",
    "            with tf.control_dependencies([]):\n",
    "                self._logits = tf.identity(logits)\n",
    "                self._c      = tf.identity(c)\n",
    "                self._obs    = tf.identity(obs)\n",
    "        super(dAugmentedBernoulli,self).__init__(dtype=tf.int32,validate_args=validate_args,allow_nan_stats=allow_nan_stats,\n",
    "                                                 reparameterization_type=tf.contrib.distributions.NOT_REPARAMETERIZED,\n",
    "                                                 parameters=parameters,graph_parents=[self._logits,self._c,self._obs],name=name)\n",
    "\n",
    "    def _log_prob(self,event):\n",
    "        event = tf.cast(event,tf.float32)\n",
    "        cond = self._logits >= 0\n",
    "        neg_abs = tf.where(cond,-self._logits,self._logits)\n",
    "        sig = ((self._c-1.0)*tf.cast(event,tf.float32)+1.0)*tf.log1p(tf.exp(neg_abs))\n",
    "        return self._obs * tf.where(cond,(event-1)*self._logits-sig,self._c*event*self._logits-sig)\n",
    "\n",
    "def __init__(self, *args, **kwargs):\n",
    "    RandomVariable.__init__(self, *args, **kwargs)\n",
    "AugmentedBernoulli = type(\"AugmentedBernoulli\", (RandomVariable, dAugmentedBernoulli), {'__init__': __init__})"
   ]
  },
  {
   "cell_type": "code",
   "execution_count": 7,
   "metadata": {
    "collapsed": true
   },
   "outputs": [],
   "source": [
    "# Construct VB-MK-LMF model\n",
    "# Gamma distributions can lead to very noisy gradients so LogNormals are used instead\n",
    "\n",
    "def construct_model():\n",
    "    nku = len(Ku)\n",
    "    nkv = len(Kv)\n",
    "\n",
    "    obs = tf.placeholder(tf.float32,R_.shape)\n",
    "\n",
    "    Ug  = TransformedDistribution(distribution=Normal(tf.zeros([nku]),tf.ones([nku])),\n",
    "                                  bijector=tf.contrib.distributions.bijectors.Exp())\n",
    "    Vg  = TransformedDistribution(distribution=Normal(tf.zeros([nkv]),tf.ones([nkv])),\n",
    "                                  bijector=tf.contrib.distributions.bijectors.Exp())\n",
    "\n",
    "    Ua  = TransformedDistribution(distribution=Normal(tf.zeros([1]),tf.ones([1])),\n",
    "                                  bijector=tf.contrib.distributions.bijectors.Exp())\n",
    "    Va  = TransformedDistribution(distribution=Normal(tf.zeros([1]),tf.ones([1])),\n",
    "                                  bijector=tf.contrib.distributions.bijectors.Exp())\n",
    "\n",
    "    cKu = tf.cholesky(Ku+tf.eye(I)/Ua) #TODO: rank 1 chol update\n",
    "    cKv = tf.cholesky(Kv+tf.eye(J)/Va)\n",
    "\n",
    "    Uw1 = MultivariateNormalTriL(tf.zeros([L,I]),tf.reduce_sum(cKu/tf.reshape(tf.sqrt(Ug),[nku,1,1]),axis=0))\n",
    "    Vw1 = MultivariateNormalTriL(tf.zeros([L,J]),tf.reduce_sum(cKv/tf.reshape(tf.sqrt(Vg),[nkv,1,1]),axis=0))\n",
    "\n",
    "    logits = nn(Uw1,Vw1)\n",
    "    R   = AugmentedBernoulli(logits=logits,c=c,obs=obs,value=tf.cast(logits>0,tf.int32))\n",
    "\n",
    "    qUg  = TransformedDistribution(distribution=NormalWithSoftplusScale(tf.Variable(tf.zeros([nku])),\n",
    "                                                                    tf.Variable(tf.ones([nku]))),\n",
    "                                   bijector=tf.contrib.distributions.bijectors.Exp())\n",
    "    qVg  = TransformedDistribution(distribution=NormalWithSoftplusScale(tf.Variable(tf.zeros([nkv])),\n",
    "                                                                        tf.Variable(tf.ones([nkv]))),\n",
    "                                   bijector=tf.contrib.distributions.bijectors.Exp())\n",
    "    qUa  = TransformedDistribution(distribution=NormalWithSoftplusScale(tf.Variable(tf.zeros([1])),\n",
    "                                                                        tf.Variable(tf.ones([1]))),\n",
    "                                   bijector=tf.contrib.distributions.bijectors.Exp())\n",
    "    qVa  = TransformedDistribution(distribution=NormalWithSoftplusScale(tf.Variable(tf.zeros([1])),\n",
    "                                                                        tf.Variable(tf.ones([1]))),\n",
    "                                   bijector=tf.contrib.distributions.bijectors.Exp())\n",
    "    qUw1 = MultivariateNormalTriL(tf.Variable(tf.zeros([L,I])),tf.Variable(tf.eye(I)))\n",
    "    qVw1 = MultivariateNormalTriL(tf.Variable(tf.zeros([L,J])),tf.Variable(tf.eye(J)))\n",
    "    \n",
    "    return obs,Ug,Vg,Ua,Va,cKu,cKv,Uw1,Vw1,R,qUg,qVg,qUa,qVa,qUw1,qVw1"
   ]
  },
  {
   "cell_type": "code",
   "execution_count": 8,
   "metadata": {},
   "outputs": [
    {
     "name": "stderr",
     "output_type": "stream",
     "text": [
      "/usr/local/lib/python3.5/dist-packages/edward/util/random_variables.py:52: FutureWarning: Conversion of the second argument of issubdtype from `float` to `np.floating` is deprecated. In future, it will be treated as `np.float64 == np.dtype(float).type`.\n",
      "  not np.issubdtype(value.dtype, np.float) and \\\n"
     ]
    },
    {
     "name": "stdout",
     "output_type": "stream",
     "text": [
      "3000/3000 [100%] ██████████████████████████████ Elapsed: 165s | Loss: 686.201\n",
      "AUPR: 0.7907644593258405\tAUROC: 0.9738461538461538\n",
      "3000/3000 [100%] ██████████████████████████████ Elapsed: 163s | Loss: 698.946\n",
      "AUPR: 0.8467848124098125\tAUROC: 0.9829545454545454\n",
      "3000/3000 [100%] ██████████████████████████████ Elapsed: 163s | Loss: 667.156\n",
      "AUPR: 0.808971088435374\tAUROC: 0.9838882921589688\n",
      "3000/3000 [100%] ██████████████████████████████ Elapsed: 162s | Loss: 646.558\n",
      "AUPR: 0.9190323884289402\tAUROC: 0.9856770833333333\n",
      "3000/3000 [100%] ██████████████████████████████ Elapsed: 162s | Loss: 666.854\n",
      "AUPR: 0.8046793292913982\tAUROC: 0.97\n",
      "3000/3000 [100%] ██████████████████████████████ Elapsed: 163s | Loss: 688.001\n",
      "AUPR: 0.8932687748477223\tAUROC: 0.9753846153846154\n",
      "3000/3000 [100%] ██████████████████████████████ Elapsed: 163s | Loss: 670.754\n",
      "AUPR: 0.6808335369827305\tAUROC: 0.9577114427860698\n",
      "3000/3000 [100%] ██████████████████████████████ Elapsed: 161s | Loss: 686.461\n",
      "AUPR: 0.6745142323414259\tAUROC: 0.9270568278201865\n",
      "3000/3000 [100%] ██████████████████████████████ Elapsed: 162s | Loss: 695.615\n",
      "AUPR: 0.6809694927913402\tAUROC: 0.9485553206483439\n",
      "3000/3000 [100%] ██████████████████████████████ Elapsed: 162s | Loss: 711.265\n",
      "AUPR: 0.8807234432234432\tAUROC: 0.9906152241918665\n",
      "3000/3000 [100%] ██████████████████████████████ Elapsed: 162s | Loss: 669.910\n",
      "AUPR: 0.725818862207751\tAUROC: 0.9609838846480068\n",
      "3000/3000 [100%] ██████████████████████████████ Elapsed: 162s | Loss: 695.032\n",
      "AUPR: 0.9395833333333333\tAUROC: 0.9933712121212122\n",
      "3000/3000 [100%] ██████████████████████████████ Elapsed: 165s | Loss: 697.820\n",
      "AUPR: 0.7795690915769746\tAUROC: 0.9704016913319239\n",
      "3000/3000 [100%] ██████████████████████████████ Elapsed: 161s | Loss: 667.250\n",
      "AUPR: 0.7577885261935327\tAUROC: 0.9526515151515151\n",
      "3000/3000 [100%] ██████████████████████████████ Elapsed: 162s | Loss: 619.678\n",
      "AUPR: 0.8316798352337568\tAUROC: 0.9576822916666666\n",
      "3000/3000 [100%] ██████████████████████████████ Elapsed: 166s | Loss: 701.688\n",
      "AUPR: 0.8128822790113112\tAUROC: 0.9677765843179377\n",
      "3000/3000 [100%] ██████████████████████████████ Elapsed: 161s | Loss: 701.307\n",
      "AUPR: 0.7765460729746444\tAUROC: 0.9828141783029002\n",
      "3000/3000 [100%] ██████████████████████████████ Elapsed: 162s | Loss: 664.228\n",
      "AUPR: 0.7579489930832641\tAUROC: 0.9464411557434813\n",
      "3000/3000 [100%] ██████████████████████████████ Elapsed: 163s | Loss: 687.055\n",
      "AUPR: 1.0\tAUROC: 1.0\n",
      "3000/3000 [100%] ██████████████████████████████ Elapsed: 168s | Loss: 711.864\n",
      "AUPR: 0.8903061224489797\tAUROC: 0.9937434827945776\n",
      "3000/3000 [100%] ██████████████████████████████ Elapsed: 161s | Loss: 670.811\n",
      "AUPR: 0.7846884018759018\tAUROC: 0.9820075757575757\n",
      "3000/3000 [100%] ██████████████████████████████ Elapsed: 162s | Loss: 687.799\n",
      "AUPR: 0.9082483660130719\tAUROC: 0.9676923076923076\n",
      "3000/3000 [100%] ██████████████████████████████ Elapsed: 162s | Loss: 633.585\n",
      "AUPR: 0.7273976049750044\tAUROC: 0.9753846153846154\n",
      "3000/3000 [100%] ██████████████████████████████ Elapsed: 162s | Loss: 682.021\n",
      "AUPR: 0.7707399626517274\tAUROC: 0.9602272727272727\n",
      "3000/3000 [100%] ██████████████████████████████ Elapsed: 171s | Loss: 700.737\n",
      "AUPR: 0.8490629880564442\tAUROC: 0.9830866807610994\n",
      "3000/3000 [100%] ██████████████████████████████ Elapsed: 162s | Loss: 684.510\n",
      "AUPR: 0.9380952380952381\tAUROC: 0.997037037037037\n",
      "3000/3000 [100%] ██████████████████████████████ Elapsed: 163s | Loss: 673.411\n",
      "AUPR: 0.7380120798319328\tAUROC: 0.9744318181818181\n",
      "3000/3000 [100%] ██████████████████████████████ Elapsed: 162s | Loss: 660.716\n",
      "AUPR: 0.8704351092455932\tAUROC: 0.9774489076814659\n",
      "3000/3000 [100%] ██████████████████████████████ Elapsed: 162s | Loss: 685.691\n",
      "AUPR: 0.836515185132825\tAUROC: 0.9518229166666667\n",
      "3000/3000 [100%] ██████████████████████████████ Elapsed: 165s | Loss: 705.102\n",
      "AUPR: 0.7695120367896375\tAUROC: 0.9478623566214807\n",
      "3000/3000 [100%] ██████████████████████████████ Elapsed: 174s | Loss: 697.132\n",
      "AUPR: 0.5592592592592593\tAUROC: 0.9781021897810219\n",
      "3000/3000 [100%] ██████████████████████████████ Elapsed: 163s | Loss: 644.457\n",
      "AUPR: 0.7866287094547963\tAUROC: 0.9784615384615384\n",
      "3000/3000 [100%] ██████████████████████████████ Elapsed: 164s | Loss: 668.181\n",
      "AUPR: 0.5801604278074866\tAUROC: 0.9496296296296297\n",
      "3000/3000 [100%] ██████████████████████████████ Elapsed: 166s | Loss: 708.151\n",
      "AUPR: 0.8387084053962647\tAUROC: 0.9795918367346939\n",
      "3000/3000 [100%] ██████████████████████████████ Elapsed: 162s | Loss: 664.040\n",
      "AUPR: 0.7950231481481481\tAUROC: 0.9753787878787878\n",
      "3000/3000 [100%] ██████████████████████████████ Elapsed: 163s | Loss: 725.362\n",
      "AUPR: 0.9587912087912088\tAUROC: 0.9957591178965225\n",
      "3000/3000 [100%] ██████████████████████████████ Elapsed: 164s | Loss: 703.045\n",
      "AUPR: 0.7931517345080324\tAUROC: 0.9583333333333334\n",
      "3000/3000 [100%] ██████████████████████████████ Elapsed: 177s | Loss: 671.974\n",
      "AUPR: 0.7451439763939763\tAUROC: 0.9706439393939394\n",
      "3000/3000 [100%] ██████████████████████████████ Elapsed: 165s | Loss: 644.585\n",
      "AUPR: 0.8062266057809634\tAUROC: 0.9402199904351984\n",
      "3000/3000 [100%] ██████████████████████████████ Elapsed: 164s | Loss: 682.581\n",
      "AUPR: 0.786700036075036\tAUROC: 0.953125\n",
      "3000/3000 [100%] ██████████████████████████████ Elapsed: 164s | Loss: 689.783\n",
      "AUPR: 0.7802578863022942\tAUROC: 0.9734848484848485\n",
      "3000/3000 [100%] ██████████████████████████████ Elapsed: 164s | Loss: 715.697\n",
      "AUPR: 0.7903615991851286\tAUROC: 0.9602577873254565\n",
      "3000/3000 [100%] ██████████████████████████████ Elapsed: 163s | Loss: 620.093\n",
      "AUPR: 0.6135608510309467\tAUROC: 0.9591261451726568\n",
      "3000/3000 [100%] ██████████████████████████████ Elapsed: 163s | Loss: 671.031\n",
      "AUPR: 0.6227494800521116\tAUROC: 0.9584615384615384\n",
      "3000/3000 [100%] ██████████████████████████████ Elapsed: 162s | Loss: 665.176\n",
      "AUPR: 0.8617065854119426\tAUROC: 0.9674479166666667\n",
      "3000/3000 [100%] ██████████████████████████████ Elapsed: 162s | Loss: 646.275\n",
      "AUPR: 0.8106610709551886\tAUROC: 0.9821882951653944\n",
      "3000/3000 [100%] ██████████████████████████████ Elapsed: 176s | Loss: 700.085\n",
      "AUPR: 0.8524305555555556\tAUROC: 0.9908088235294118\n",
      "3000/3000 [100%] ██████████████████████████████ Elapsed: 164s | Loss: 681.846\n",
      "AUPR: 0.8930596067628154\tAUROC: 0.9901338971106413\n",
      "3000/3000 [100%] ██████████████████████████████ Elapsed: 162s | Loss: 679.086\n",
      "AUPR: 0.783280522121248\tAUROC: 0.9546153846153846\n",
      "3000/3000 [100%] ██████████████████████████████ Elapsed: 162s | Loss: 689.961\n",
      "AUPR: 0.818819973130318\tAUROC: 0.9733455882352942\n",
      "Overall\n",
      "AUPR: 0.7984410657786333 +- 0.18423997840612222, AUROC: 0.9705534515705121 +- 0.032372401574204374\n"
     ]
    }
   ],
   "source": [
    "auroc_all = []\n",
    "aupr_all  = []\n",
    "for f in folds:\n",
    "    # Edward does not delete nodes so we have to reset the graph manually\n",
    "    ed.get_session().close()\n",
    "    tf.reset_default_graph()\n",
    "    obs,Ug,Vg,Ua,Va,cKu,cKv,Uw1,Vw1,R,qUg,qVg,qUa,qVa,qUw1,qVw1 = construct_model()\n",
    "\n",
    "    # Hide test examples\n",
    "    cv = np.zeros((I,J),dtype=np.bool)\n",
    "    for i in f:\n",
    "        cv[i[1],i[0]] = True\n",
    "    data = np.copy(R_)\n",
    "    data[cv] = 0\n",
    "\n",
    "    # Construct observation matrix for the augmented Bernoulli distribution\n",
    "    obs_ = (np.logical_and.outer(np.any(data>0,axis=1),np.any(data>0,axis=0))*1).astype(np.float32)\n",
    "\n",
    "    # Variational approximation using BBVI\n",
    "    inference = ed.KLqp({Uw1: qUw1, Vw1: qVw1, Ug: qUg, Vg: qVg, Ua: qUa, Va: qVa},data={R: data, obs: obs_})\n",
    "    inference.initialize(n_samples=10,n_iter=3000)\n",
    "    tf.global_variables_initializer().run()\n",
    "    for _ in range(inference.n_iter):\n",
    "        info_dict = inference.update()\n",
    "        inference.print_progress(info_dict)\n",
    "    inference.finalize()\n",
    "\n",
    "    # Evaluation\n",
    "    res = tf.nn.sigmoid(nn(qUw1.mean(),qVw1.mean())**c).eval()\n",
    "\n",
    "    prc,rec,_ = precision_recall_curve(R_[cv],res[cv])\n",
    "    fpr,tpr,_ = roc_curve(R_[cv],res[cv])\n",
    "\n",
    "    auroc = auc(fpr,tpr,reorder=True)\n",
    "    aupr  = auc(rec,prc,reorder=True)\n",
    "    auroc_all += [auroc]\n",
    "    aupr_all  += [aupr]\n",
    "    print(\"AUPR: {}\\tAUROC: {}\".format(aupr,auroc))\n",
    "print(\"Overall\\nAUPR: {} +- {}, AUROC: {} +- {}\".format(np.mean(aupr_all),np.std(aupr_all)*2,np.mean(auroc_all),np.std(auroc_all)*2))"
   ]
  },
  {
   "cell_type": "code",
   "execution_count": null,
   "metadata": {
    "collapsed": true
   },
   "outputs": [],
   "source": []
  }
 ],
 "metadata": {
  "kernelspec": {
   "display_name": "Python 3",
   "language": "python",
   "name": "python3"
  },
  "language_info": {
   "codemirror_mode": {
    "name": "ipython",
    "version": 3
   },
   "file_extension": ".py",
   "mimetype": "text/x-python",
   "name": "python",
   "nbconvert_exporter": "python",
   "pygments_lexer": "ipython3",
   "version": "3.5.2"
  }
 },
 "nbformat": 4,
 "nbformat_minor": 2
}
